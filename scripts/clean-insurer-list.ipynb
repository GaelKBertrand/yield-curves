{
 "metadata": {
  "language_info": {
   "codemirror_mode": {
    "name": "ipython",
    "version": 3
   },
   "file_extension": ".py",
   "mimetype": "text/x-python",
   "name": "python",
   "nbconvert_exporter": "python",
   "pygments_lexer": "ipython3",
   "version": "3.7.3-final"
  },
  "orig_nbformat": 2,
  "kernelspec": {
   "name": "python_defaultSpec_1597775089163",
   "display_name": "Python 3.7.3 64-bit ('base': conda)"
  }
 },
 "nbformat": 4,
 "nbformat_minor": 2,
 "cells": [
  {
   "cell_type": "code",
   "execution_count": 1,
   "metadata": {},
   "outputs": [],
   "source": [
    "import pandas as pd\n",
    "import numpy as np\n",
    "import hashlib"
   ]
  },
  {
   "cell_type": "code",
   "execution_count": 2,
   "metadata": {
    "tags": []
   },
   "outputs": [
    {
     "output_type": "stream",
     "name": "stdout",
     "text": "<class 'pandas.core.frame.DataFrame'>\nRangeIndex: 30861 entries, 0 to 30860\nData columns (total 20 columns):\n #   Column                                Non-Null Count  Dtype \n---  ------                                --------------  ----- \n 0   International Name                    30861 non-null  object\n 1   Name of NCA                           30861 non-null  object\n 2   Home Country                          30861 non-null  object\n 3   Identification code                   30861 non-null  object\n 4   LEI                                   24180 non-null  object\n 5   Official name of the entity           30861 non-null  object\n 6   Cross border status                   30861 non-null  object\n 7   EU Country where the entity operates  30861 non-null  object\n 8   Local/Commercial name                 16594 non-null  object\n 9   Registration start date               30861 non-null  object\n 10  Registration end date                 128 non-null    object\n 11  Street Name                           30861 non-null  object\n 12  Street Number                         9219 non-null   object\n 13  Post Code                             30428 non-null  object\n 14  City                                  30731 non-null  object\n 15  County                                14217 non-null  object\n 16  Website address                       7843 non-null   object\n 17  Operation Start Date                  30445 non-null  object\n 18  Operation End Date                    0 non-null      object\n 19  Unnamed: 19                           0 non-null      object\ndtypes: object(20)\nmemory usage: 4.7+ MB\n"
    }
   ],
   "source": [
    "# Read file\n",
    "df = pd.read_csv(\"datasets/raw/insurance_undertakings-raw.csv\", sep=\";\", dtype=object)\n",
    "df.info()"
   ]
  },
  {
   "cell_type": "code",
   "execution_count": 3,
   "metadata": {},
   "outputs": [],
   "source": [
    "# Drop empty columns\n",
    "df = df.drop([\"Unnamed: 19\", \"Operation End Date\"], axis=1)\n",
    "\n",
    "# Set LEI to NaN if filled with zeros\n",
    "df.loc[df[\"LEI\"] == \"00000000000000000000\", \"LEI\"] = None\n",
    "\n",
    "# Convert colums to date time\n",
    "df[\"Registration start date\"] = pd.to_datetime(df[\"Registration start date\"])\n",
    "df[\"Registration end date\"] = pd.to_datetime(df[\"Registration end date\"])\n",
    "df[\"Operation Start Date\"] = pd.to_datetime(df[\"Operation Start Date\"])"
   ]
  },
  {
   "cell_type": "code",
   "execution_count": 4,
   "metadata": {},
   "outputs": [
    {
     "output_type": "execute_result",
     "data": {
      "text/plain": "                        International Name  \\\n0  EUROPEAN INSURANCE SOLUTION PCC LIMITED   \n1                   ELMO INSURANCE LIMITED   \n2                 CITADEL INSURANCE P.L.C.   \n3        BAVARIA REINSURANCE MALTA LIMITED   \n4                CAFINA ASSURANCES LIMITED   \n\n                                 Name of NCA Home Country Identification code  \\\n0  Malta Financial Services Authority (MFSA)           MT             C 62414   \n1  Malta Financial Services Authority (MFSA)           MT              C 3500   \n2  Malta Financial Services Authority (MFSA)           MT             C 21550   \n3  Malta Financial Services Authority (MFSA)           MT             C 37534   \n4  Malta Financial Services Authority (MFSA)           MT             C 50718   \n\n                    LEI              Official name of the entity  \\\n0  213800LD98RC6499PB21  EUROPEAN INSURANCE SOLUTION PCC LIMITED   \n1  213800PTT2RWKYU5LV82                   ELMO INSURANCE LIMITED   \n2  5299005JR2DPHSDP1371                 CITADEL INSURANCE P.L.C.   \n3  213800VP6B1WEHBDQP63        BAVARIA REINSURANCE MALTA LIMITED   \n4  213800NR2H6HYASL4F61                CAFINA ASSURANCES LIMITED   \n\n    Cross border status EU Country where the entity operates  \\\n0  Domestic undertaking                                   MT   \n1  Domestic undertaking                                   MT   \n2  Domestic undertaking                                   MT   \n3  Domestic undertaking                                   MT   \n4  Domestic undertaking                                   MT   \n\n  Local/Commercial name Registration start date Registration end date  \\\n0                   NaN     2013-11-14 01:00:00                   NaT   \n1                   NaN     2004-04-29 02:00:00                   NaT   \n2                   NaN     1997-08-22 02:00:00                   NaT   \n3                   NaN     2005-12-14 01:00:00                   NaT   \n4                   NaN     2010-10-15 02:00:00                   NaT   \n\n             Street Name                  Street Number Post Code      City  \\\n0       St. Anne Street,  4th Floor, Development House,  FRN 9010  Floriana   \n1    Abate Rigord Street                            NaN  XBX 1111  Ta Xbiex   \n2     26, Market Street,                   Casa Borgo,   FRN 1082  Floriana   \n3       St. Anne Street,  5th Floor, Development House,  FRN 9010  Floriana   \n4  Alfred Craig Street,                             NaN  XBX 1111  Ta Xbiex   \n\n  County Website address Operation Start Date  \n0    NaN             NaN  2013-11-14 01:00:00  \n1    NaN             NaN  2004-04-29 02:00:00  \n2    NaN             NaN  1997-08-22 02:00:00  \n3    NaN             NaN  2005-12-14 01:00:00  \n4    NaN             NaN  2010-10-15 02:00:00  ",
      "text/html": "<div>\n<style scoped>\n    .dataframe tbody tr th:only-of-type {\n        vertical-align: middle;\n    }\n\n    .dataframe tbody tr th {\n        vertical-align: top;\n    }\n\n    .dataframe thead th {\n        text-align: right;\n    }\n</style>\n<table border=\"1\" class=\"dataframe\">\n  <thead>\n    <tr style=\"text-align: right;\">\n      <th></th>\n      <th>International Name</th>\n      <th>Name of NCA</th>\n      <th>Home Country</th>\n      <th>Identification code</th>\n      <th>LEI</th>\n      <th>Official name of the entity</th>\n      <th>Cross border status</th>\n      <th>EU Country where the entity operates</th>\n      <th>Local/Commercial name</th>\n      <th>Registration start date</th>\n      <th>Registration end date</th>\n      <th>Street Name</th>\n      <th>Street Number</th>\n      <th>Post Code</th>\n      <th>City</th>\n      <th>County</th>\n      <th>Website address</th>\n      <th>Operation Start Date</th>\n    </tr>\n  </thead>\n  <tbody>\n    <tr>\n      <th>0</th>\n      <td>EUROPEAN INSURANCE SOLUTION PCC LIMITED</td>\n      <td>Malta Financial Services Authority (MFSA)</td>\n      <td>MT</td>\n      <td>C 62414</td>\n      <td>213800LD98RC6499PB21</td>\n      <td>EUROPEAN INSURANCE SOLUTION PCC LIMITED</td>\n      <td>Domestic undertaking</td>\n      <td>MT</td>\n      <td>NaN</td>\n      <td>2013-11-14 01:00:00</td>\n      <td>NaT</td>\n      <td>St. Anne Street,</td>\n      <td>4th Floor, Development House,</td>\n      <td>FRN 9010</td>\n      <td>Floriana</td>\n      <td>NaN</td>\n      <td>NaN</td>\n      <td>2013-11-14 01:00:00</td>\n    </tr>\n    <tr>\n      <th>1</th>\n      <td>ELMO INSURANCE LIMITED</td>\n      <td>Malta Financial Services Authority (MFSA)</td>\n      <td>MT</td>\n      <td>C 3500</td>\n      <td>213800PTT2RWKYU5LV82</td>\n      <td>ELMO INSURANCE LIMITED</td>\n      <td>Domestic undertaking</td>\n      <td>MT</td>\n      <td>NaN</td>\n      <td>2004-04-29 02:00:00</td>\n      <td>NaT</td>\n      <td>Abate Rigord Street</td>\n      <td>NaN</td>\n      <td>XBX 1111</td>\n      <td>Ta Xbiex</td>\n      <td>NaN</td>\n      <td>NaN</td>\n      <td>2004-04-29 02:00:00</td>\n    </tr>\n    <tr>\n      <th>2</th>\n      <td>CITADEL INSURANCE P.L.C.</td>\n      <td>Malta Financial Services Authority (MFSA)</td>\n      <td>MT</td>\n      <td>C 21550</td>\n      <td>5299005JR2DPHSDP1371</td>\n      <td>CITADEL INSURANCE P.L.C.</td>\n      <td>Domestic undertaking</td>\n      <td>MT</td>\n      <td>NaN</td>\n      <td>1997-08-22 02:00:00</td>\n      <td>NaT</td>\n      <td>26, Market Street,</td>\n      <td>Casa Borgo,</td>\n      <td>FRN 1082</td>\n      <td>Floriana</td>\n      <td>NaN</td>\n      <td>NaN</td>\n      <td>1997-08-22 02:00:00</td>\n    </tr>\n    <tr>\n      <th>3</th>\n      <td>BAVARIA REINSURANCE MALTA LIMITED</td>\n      <td>Malta Financial Services Authority (MFSA)</td>\n      <td>MT</td>\n      <td>C 37534</td>\n      <td>213800VP6B1WEHBDQP63</td>\n      <td>BAVARIA REINSURANCE MALTA LIMITED</td>\n      <td>Domestic undertaking</td>\n      <td>MT</td>\n      <td>NaN</td>\n      <td>2005-12-14 01:00:00</td>\n      <td>NaT</td>\n      <td>St. Anne Street,</td>\n      <td>5th Floor, Development House,</td>\n      <td>FRN 9010</td>\n      <td>Floriana</td>\n      <td>NaN</td>\n      <td>NaN</td>\n      <td>2005-12-14 01:00:00</td>\n    </tr>\n    <tr>\n      <th>4</th>\n      <td>CAFINA ASSURANCES LIMITED</td>\n      <td>Malta Financial Services Authority (MFSA)</td>\n      <td>MT</td>\n      <td>C 50718</td>\n      <td>213800NR2H6HYASL4F61</td>\n      <td>CAFINA ASSURANCES LIMITED</td>\n      <td>Domestic undertaking</td>\n      <td>MT</td>\n      <td>NaN</td>\n      <td>2010-10-15 02:00:00</td>\n      <td>NaT</td>\n      <td>Alfred Craig Street,</td>\n      <td>NaN</td>\n      <td>XBX 1111</td>\n      <td>Ta Xbiex</td>\n      <td>NaN</td>\n      <td>NaN</td>\n      <td>2010-10-15 02:00:00</td>\n    </tr>\n  </tbody>\n</table>\n</div>"
     },
     "metadata": {},
     "execution_count": 4
    }
   ],
   "source": [
    "df.head()"
   ]
  },
  {
   "cell_type": "code",
   "execution_count": 5,
   "metadata": {},
   "outputs": [
    {
     "output_type": "execute_result",
     "data": {
      "text/plain": "Index(['International Name', 'Name of NCA', 'Home Country',\n       'Identification code', 'LEI', 'Official name of the entity',\n       'Cross border status', 'EU Country where the entity operates',\n       'Local/Commercial name', 'Registration start date',\n       'Registration end date', 'Street Name', 'Street Number', 'Post Code',\n       'City', 'County', 'Website address', 'Operation Start Date'],\n      dtype='object')"
     },
     "metadata": {},
     "execution_count": 5
    }
   ],
   "source": [
    "# Check columns\n",
    "df.columns"
   ]
  },
  {
   "cell_type": "code",
   "execution_count": 6,
   "metadata": {},
   "outputs": [],
   "source": [
    "# Note that not all entities in the list have a Legal Entity Identifier - for those that don't use the international name as proxy key\n",
    "# In either case hash the LEI and Name to get a consistent key\n",
    "df[\"Key\"] = np.where(df[\"LEI\"].isnull(), df[\"International Name\"].apply(lambda x: hashlib.md5(str(x).encode('UTF-8')).hexdigest()).str[:12], \n",
    "                                         df[\"LEI\"].apply(lambda x: hashlib.md5(str(x).encode('UTF-8')).hexdigest()).str[:12])\n",
    "\n",
    "# If duplicate keys are present prefer keeping those entries with a website\n",
    "df_insureres = df.sort_values([\"Key\", \"Website address\"]).reset_index(drop=True).drop_duplicates(subset=[\"Key\"], keep=\"first\")"
   ]
  },
  {
   "cell_type": "code",
   "execution_count": 7,
   "metadata": {},
   "outputs": [
    {
     "output_type": "execute_result",
     "data": {
      "text/plain": "            Key                   LEI  \\\n0  000a66771871  635400AVUOEWJYZGQQ40   \n1  001730d96ec4  9598001DQ7U3BQJEEZ51   \n2  0030ac7998cd  391200DTAYLSAHINXK49   \n3  00371fcc8790  743700IXQUK2UEMLWB77   \n4  003f3f91d298  959800ZWWVLBYKM42V32   \n\n                                 International Name  \\\n0            Lion II Re Designated Activity Company   \n1  AGROPELAYO SOCIEDAD DE SEGUROS, SOCIEDAD ANÓNIMA   \n2               Tokio Marine Kiln Insurance Limited   \n3               Försäkringsaktiebolaget Liv-Alandia   \n4     MERIDIANO, S.A., COMPAÑIA ESPAÑOLA DE SEGUROS   \n\n                        Official name of the entity  \\\n0            Lion II Re Designated Activity Company   \n1  AGROPELAYO SOCIEDAD DE SEGUROS, SOCIEDAD ANÓNIMA   \n2               Tokio Marine Kiln Insurance Limited   \n3               Försäkringsaktiebolaget Liv-Alandia   \n4     MERIDIANO, S.A., COMPAÑIA ESPAÑOLA DE SEGUROS   \n\n                       Name of NCA Registration start date  \\\n0          Central Bank of Ireland     2017-06-14 02:00:00   \n1                            DGSFP     2015-12-18 01:00:00   \n2  Prudential Regulation Authority     1970-09-15 02:00:00   \n3                          FIN-FSA     1994-05-10 02:00:00   \n4                            DGSFP     1967-07-24 02:00:00   \n\n  Registration end date                   Street Name Street Number Post Code  \\\n0                   NaT  Floor 4, 25-28 Adelaide Road           NaN        D2   \n1                   NaT                Cl Micer Mascó            42     46010   \n2                   NaT              Fenchurch Street            20  EC3M 3BY   \n3                   NaT                Ålandsvägen 31           NaN     22100   \n4                   NaT      Av JEAN LAUDE COMBALDIEU             5     03008   \n\n               City    County Home Country         Website address  \\\n0            Dublin  Dublin 2           IE                     NaN   \n1          Valencia  Valencia           ES                     NaN   \n2            London       NaN           UK   www.tokiomarine.co.uk   \n3         MARIEHAMN       NaN           FI  http://www.alandia.com   \n4  Alicante/Alacant  Alicante           ES                     NaN   \n\n  Operation Start Date EU Country where the entity operates  \n0  2017-06-14 02:00:00                                 [IE]  \n1  2015-12-18 01:00:00                                 [ES]  \n2  2001-01-12 01:00:00                                 [UK]  \n3  1995-05-30 02:00:00                                 [FI]  \n4  1967-07-24 02:00:00                                 [ES]  ",
      "text/html": "<div>\n<style scoped>\n    .dataframe tbody tr th:only-of-type {\n        vertical-align: middle;\n    }\n\n    .dataframe tbody tr th {\n        vertical-align: top;\n    }\n\n    .dataframe thead th {\n        text-align: right;\n    }\n</style>\n<table border=\"1\" class=\"dataframe\">\n  <thead>\n    <tr style=\"text-align: right;\">\n      <th></th>\n      <th>Key</th>\n      <th>LEI</th>\n      <th>International Name</th>\n      <th>Official name of the entity</th>\n      <th>Name of NCA</th>\n      <th>Registration start date</th>\n      <th>Registration end date</th>\n      <th>Street Name</th>\n      <th>Street Number</th>\n      <th>Post Code</th>\n      <th>City</th>\n      <th>County</th>\n      <th>Home Country</th>\n      <th>Website address</th>\n      <th>Operation Start Date</th>\n      <th>EU Country where the entity operates</th>\n    </tr>\n  </thead>\n  <tbody>\n    <tr>\n      <th>0</th>\n      <td>000a66771871</td>\n      <td>635400AVUOEWJYZGQQ40</td>\n      <td>Lion II Re Designated Activity Company</td>\n      <td>Lion II Re Designated Activity Company</td>\n      <td>Central Bank of Ireland</td>\n      <td>2017-06-14 02:00:00</td>\n      <td>NaT</td>\n      <td>Floor 4, 25-28 Adelaide Road</td>\n      <td>NaN</td>\n      <td>D2</td>\n      <td>Dublin</td>\n      <td>Dublin 2</td>\n      <td>IE</td>\n      <td>NaN</td>\n      <td>2017-06-14 02:00:00</td>\n      <td>[IE]</td>\n    </tr>\n    <tr>\n      <th>1</th>\n      <td>001730d96ec4</td>\n      <td>9598001DQ7U3BQJEEZ51</td>\n      <td>AGROPELAYO SOCIEDAD DE SEGUROS, SOCIEDAD ANÓNIMA</td>\n      <td>AGROPELAYO SOCIEDAD DE SEGUROS, SOCIEDAD ANÓNIMA</td>\n      <td>DGSFP</td>\n      <td>2015-12-18 01:00:00</td>\n      <td>NaT</td>\n      <td>Cl Micer Mascó</td>\n      <td>42</td>\n      <td>46010</td>\n      <td>Valencia</td>\n      <td>Valencia</td>\n      <td>ES</td>\n      <td>NaN</td>\n      <td>2015-12-18 01:00:00</td>\n      <td>[ES]</td>\n    </tr>\n    <tr>\n      <th>2</th>\n      <td>0030ac7998cd</td>\n      <td>391200DTAYLSAHINXK49</td>\n      <td>Tokio Marine Kiln Insurance Limited</td>\n      <td>Tokio Marine Kiln Insurance Limited</td>\n      <td>Prudential Regulation Authority</td>\n      <td>1970-09-15 02:00:00</td>\n      <td>NaT</td>\n      <td>Fenchurch Street</td>\n      <td>20</td>\n      <td>EC3M 3BY</td>\n      <td>London</td>\n      <td>NaN</td>\n      <td>UK</td>\n      <td>www.tokiomarine.co.uk</td>\n      <td>2001-01-12 01:00:00</td>\n      <td>[UK]</td>\n    </tr>\n    <tr>\n      <th>3</th>\n      <td>00371fcc8790</td>\n      <td>743700IXQUK2UEMLWB77</td>\n      <td>Försäkringsaktiebolaget Liv-Alandia</td>\n      <td>Försäkringsaktiebolaget Liv-Alandia</td>\n      <td>FIN-FSA</td>\n      <td>1994-05-10 02:00:00</td>\n      <td>NaT</td>\n      <td>Ålandsvägen 31</td>\n      <td>NaN</td>\n      <td>22100</td>\n      <td>MARIEHAMN</td>\n      <td>NaN</td>\n      <td>FI</td>\n      <td>http://www.alandia.com</td>\n      <td>1995-05-30 02:00:00</td>\n      <td>[FI]</td>\n    </tr>\n    <tr>\n      <th>4</th>\n      <td>003f3f91d298</td>\n      <td>959800ZWWVLBYKM42V32</td>\n      <td>MERIDIANO, S.A., COMPAÑIA ESPAÑOLA DE SEGUROS</td>\n      <td>MERIDIANO, S.A., COMPAÑIA ESPAÑOLA DE SEGUROS</td>\n      <td>DGSFP</td>\n      <td>1967-07-24 02:00:00</td>\n      <td>NaT</td>\n      <td>Av JEAN LAUDE COMBALDIEU</td>\n      <td>5</td>\n      <td>03008</td>\n      <td>Alicante/Alacant</td>\n      <td>Alicante</td>\n      <td>ES</td>\n      <td>NaN</td>\n      <td>1967-07-24 02:00:00</td>\n      <td>[ES]</td>\n    </tr>\n  </tbody>\n</table>\n</div>"
     },
     "metadata": {},
     "execution_count": 7
    }
   ],
   "source": [
    "# Keep selected columns\n",
    "df_insureres = df_insureres[[\"Key\", \"LEI\", \"International Name\", \"Official name of the entity\", \"Name of NCA\", \"Registration start date\", \"Registration end date\", \"Street Name\", \"Street Number\", \"Post Code\", \"City\", \"County\", \"Home Country\", \"Website address\", \"Operation Start Date\"]]\n",
    "\n",
    "# Get list of countries in which insurer is operating and turn it into a nested array\n",
    "df_countries = df[[\"Key\", \"EU Country where the entity operates\"]].drop_duplicates()\n",
    "df_countries = df_countries.groupby([\"Key\"])[\"EU Country where the entity operates\"].apply(list).reset_index()\n",
    "\n",
    "# Combine insurer list with country of operation\n",
    "df_insureres = df_insureres.merge(df_countries, on=[\"Key\"])\n",
    "\n",
    "df_insureres.head()\n"
   ]
  },
  {
   "cell_type": "code",
   "execution_count": 8,
   "metadata": {},
   "outputs": [],
   "source": [
    "# Save to .csv\n",
    "df_insureres.to_csv(\"datasets/clean/european-insurers.csv\", index=False)"
   ]
  }
 ]
}